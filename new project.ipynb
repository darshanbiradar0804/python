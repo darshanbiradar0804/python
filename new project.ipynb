{
 "cells": [
  {
   "cell_type": "code",
   "execution_count": 1,
   "id": "a7ce477d-0c7e-4325-bb9e-95292f09730e",
   "metadata": {},
   "outputs": [
    {
     "name": "stdout",
     "output_type": "stream",
     "text": [
      "Shopkeeper: Good morning! Welcome to our mobile shop.\n"
     ]
    },
    {
     "name": "stdin",
     "output_type": "stream",
     "text": [
      "Shopkeeper: Are you looking for a new phone today? (yes/no):  yes\n"
     ]
    },
    {
     "name": "stdout",
     "output_type": "stream",
     "text": [
      "Customer: Uh, yeah, actually, I am.\n",
      "Shopkeeper: Great! We have a variety of options available.\n",
      "Shopkeeper: Which brand of phone are you interested in?\n"
     ]
    },
    {
     "name": "stdin",
     "output_type": "stream",
     "text": [
      "Shopkeeper: You can choose from Apple, Samsung, or Xiaomi:  apple\n"
     ]
    },
    {
     "name": "stdout",
     "output_type": "stream",
     "text": [
      "Shopkeeper: Excellent choice! Here are the latest models from Apple:\n",
      "1. iPhone 15 Pro\n",
      "2. iPhone 15\n",
      "3. iPhone 14\n"
     ]
    },
    {
     "name": "stdin",
     "output_type": "stream",
     "text": [
      "Shopkeeper: Which model are you interested in? (Enter the number):  1\n"
     ]
    },
    {
     "name": "stdout",
     "output_type": "stream",
     "text": [
      "Shopkeeper: The iPhone 15 Pro is one of our flagship models, packed with advanced features.\n"
     ]
    },
    {
     "name": "stdin",
     "output_type": "stream",
     "text": [
      "Shopkeeper: Which color would you like? (blue/white/red):  red\n"
     ]
    },
    {
     "name": "stdout",
     "output_type": "stream",
     "text": [
      "Shopkeeper: Great choice! The iPhone 15 Pro in red looks stunning.\n"
     ]
    },
    {
     "name": "stdin",
     "output_type": "stream",
     "text": [
      "Shopkeeper: Which variant do you want? (128 GB/256 GB/512 GB):  128gb\n"
     ]
    },
    {
     "name": "stdout",
     "output_type": "stream",
     "text": [
      "Shopkeeper: I'm sorry, that's not a valid variant option.\n"
     ]
    }
   ],
   "source": [
    "def mobile_shop():\n",
    "    print(\"Shopkeeper: Good morning! Welcome to our mobile shop.\")\n",
    "    response = input(\"Shopkeeper: Are you looking for a new phone today? (yes/no): \").lower()\n",
    "\n",
    "    if response == \"yes\":\n",
    "        print(\"Customer: Uh, yeah, actually, I am.\")\n",
    "        print(\"Shopkeeper: Great! We have a variety of options available.\")\n",
    "        print(\"Shopkeeper: Which brand of phone are you interested in?\")\n",
    "        brand = input(\"Shopkeeper: You can choose from Apple, Samsung, or Xiaomi: \").lower()\n",
    "\n",
    "        if brand == \"apple\":\n",
    "            print(\"Shopkeeper: Excellent choice! Here are the latest models from Apple:\")\n",
    "            print(\"1. iPhone 15 Pro\")\n",
    "            print(\"2. iPhone 15\")\n",
    "            print(\"3. iPhone 14\")\n",
    "\n",
    "            model_choice = input(\"Shopkeeper: Which model are you interested in? (Enter the number): \")\n",
    "\n",
    "            if model_choice == \"1\":\n",
    "                print(\"Shopkeeper: The iPhone 15 Pro is one of our flagship models, packed with advanced features.\")\n",
    "                color_choice = input(\"Shopkeeper: Which color would you like? (blue/white/red): \").lower()\n",
    "                if color_choice in [\"blue\", \"white\", \"red\"]:\n",
    "                    print(f\"Shopkeeper: Great choice! The iPhone 15 Pro in {color_choice} looks stunning.\")\n",
    "                    variant_choice = input(\"Shopkeeper: Which variant do you want? (128 GB/256 GB/512 GB): \").lower()\n",
    "                    if variant_choice in [\"128 gb\", \"256 gb\", \"512 gb\"]:\n",
    "                        print(f\"Shopkeeper: The iPhone 15 Pro in {color_choice} with {variant_choice} is available!\")\n",
    "                        discount_response = input(\"Customer: Is there any discount going on? (yes/no): \").lower()\n",
    "                        if discount_response == \"yes\":\n",
    "                            print(\"Shopkeeper: Yes, there is a 20% discount available on the iPhone 15 Pro.\")\n",
    "                        else:\n",
    "                            print(\"Shopkeeper: I'm sorry, there are no discounts available for the iPhone 15 Pro at the moment.\")\n",
    "                        \n",
    "                       \n",
    "                        is_5g_capable = input(\"Customer: Is this phone 5G capable? (yes/no): \").lower()\n",
    "                        if is_5g_capable == \"yes\":\n",
    "                            print(\"Shopkeeper: Yes, the iPhone 15 Pro is 5G capable.\")\n",
    "                        else:\n",
    "                            print(\"Shopkeeper: No, the iPhone 15 Pro is not 5G capable.\")\n",
    "\n",
    "                    else:\n",
    "                        print(\"Shopkeeper: I'm sorry, that's not a valid variant option.\")\n",
    "                else:\n",
    "                    print(\"Shopkeeper: I'm sorry, that's not a valid color option.\")\n",
    "\n",
    "       \n",
    "\n",
    "        elif brand == \"samsung\":\n",
    "            print(\"Shopkeeper: Samsung offers some excellent models as well. Here are a few options:\")\n",
    "            print(\"1. Samsung Galaxy S24 Ultra\")\n",
    "            print(\"2. Samsung Galaxy S20\")\n",
    "            print(\"3. Samsung Galaxy Z Fold 2\")\n",
    "\n",
    "            model_choice = input(\"Shopkeeper: Which Samsung model are you interested in? (Enter the number): \")\n",
    "\n",
    "            if model_choice == \"1\":\n",
    "                print(\"Shopkeeper: The Samsung Galaxy S24 Ultra boasts an incredible camera and performance.\")\n",
    "                color_choice = input(\"Shopkeeper: Which color would you like? (gold/green/pink): \").lower()\n",
    "                if color_choice in [\"gold\", \"green\", \"pink\"]:\n",
    "                    print(f\"Shopkeeper: Great choice! The Samsung Galaxy S24 Ultra in {color_choice} looks fantastic!\")\n",
    "                    variant_choice = input(\"Shopkeeper: Which variant do you want? (128 GB/256 GB/512 GB): \").lower()\n",
    "                    if variant_choice in [\"128 gb\", \"256 gb\", \"512 gb\"]:\n",
    "                        print(f\"Shopkeeper: The Samsung Galaxy S24 Ultra in {color_choice} with {variant_choice} is available!\")\n",
    "                        discount_response = input(\"Customer: Is there any discount going on? (yes/no): \").lower()\n",
    "                        if discount_response == \"yes\":\n",
    "                            print(\"Shopkeeper: Yes, there is a 25% discount available on the Samsung Galaxy S24 Ultra.\")\n",
    "                        else:\n",
    "                            print(\"Shopkeeper: I'm sorry, there are no discounts available for the Samsung Galaxy S24 Ultra at the moment.\")\n",
    "                        \n",
    "                      \n",
    "                        is_5g_capable = input(\"Customer: Is this phone 5G capable? (yes/no): \").lower()\n",
    "                        if is_5g_capable == \"yes\":\n",
    "                            print(\"Shopkeeper: Yes, the Samsung Galaxy S24 Ultra is 5G capable.\")\n",
    "                        else:\n",
    "                            print(\"Shopkeeper: No, the Samsung Galaxy S24 Ultra is not 5G capable.\")\n",
    "\n",
    "                    else:\n",
    "                        print(\"Shopkeeper: I'm sorry, that's not a valid variant option.\")\n",
    "                else:\n",
    "                    print(\"Shopkeeper: I'm sorry, that's not a valid color option.\")\n",
    "\n",
    "        elif brand == \"xiaomi\":\n",
    "            print(\"Shopkeeper: Xiaomi offers great value for money. Here are some of their popular models:\")\n",
    "            print(\"1. Xiaomi Mi 10 Pro\")\n",
    "            print(\"2. Xiaomi Redmi Note 9\")\n",
    "            print(\"3. Xiaomi Redmi Note 7\")\n",
    "\n",
    "            model_choice = input(\"Shopkeeper: Which Xiaomi model are you interested in? (Enter the number): \")\n",
    "\n",
    "            if model_choice == \"1\":\n",
    "                print(\"Shopkeeper: The Xiaomi Mi 10 Pro is known for its high-performance capabilities and excellent camera.\")\n",
    "                color_choice = input(\"Shopkeeper: Which color would you like? (white/black/wine): \").lower()\n",
    "                if color_choice in [\"white\", \"black\", \"wine\"]:\n",
    "                    print(f\"Shopkeeper: The Xiaomi Mi 10 Pro in {color_choice} is a sleek choice!\")\n",
    "                    variant_choice = input(\"Shopkeeper: Which variant do you want? (128 GB/256 GB/512 GB): \").lower()\n",
    "                    if variant_choice in [\"128 gb\", \"256 gb\", \"512 gb\"]:\n",
    "                        print(f\"Shopkeeper: The Xiaomi Mi 10 Pro in {color_choice} with {variant_choice} is available!\")\n",
    "                        discount_response = input(\"Customer: Is there any discount going on? (yes/no): \").lower()\n",
    "                        if discount_response == \"yes\":\n",
    "                            print(\"Shopkeeper: Yes, there is a 40% discount available on the Xiaomi Mi 10 Pro.\")\n",
    "                        else:\n",
    "                            print(\"Shopkeeper: I'm sorry, there are no discounts available for the Xiaomi Mi 10 Pro at the moment.\")\n",
    "                        \n",
    "                       \n",
    "                        is_5g_capable = input(\"Customer: Is this phone 5G capable? (yes/no): \").lower()\n",
    "                        if is_5g_capable == \"yes\":\n",
    "                            print(\"Shopkeeper: Yes, the Xiaomi Mi 10 Pro is 5G capable.\")\n",
    "                        else:\n",
    "                            print(\"Shopkeeper: No, the Xiaomi Mi 10 Pro is not 5G capable.\")\n",
    "\n",
    "                    else:\n",
    "                        print(\"Shopkeeper: I'm sorry, that's not a valid variant option.\")\n",
    "                else:\n",
    "                    print(\"Shopkeeper: I'm sorry, that's not a valid color option.\")\n",
    "\n",
    "            \n",
    "\n",
    "        else:\n",
    "            print(\"Shopkeeper: I'm sorry, we don't have that brand available at the moment.\")\n",
    "        \n",
    "    else:\n",
    "        print(\"Customer: No, I'm just browsing for now.\")\n",
    "        print(\"Shopkeeper: Alright, feel free to let me know if you need any assistance or have any questions.\")\n",
    "\n",
    "mobile_shop()\n"
   ]
  },
  {
   "cell_type": "code",
   "execution_count": null,
   "id": "126eab1a-8cef-4ffb-88b7-0a8eda52fc8f",
   "metadata": {},
   "outputs": [],
   "source": []
  }
 ],
 "metadata": {
  "kernelspec": {
   "display_name": "Python 3 (ipykernel)",
   "language": "python",
   "name": "python3"
  },
  "language_info": {
   "codemirror_mode": {
    "name": "ipython",
    "version": 3
   },
   "file_extension": ".py",
   "mimetype": "text/x-python",
   "name": "python",
   "nbconvert_exporter": "python",
   "pygments_lexer": "ipython3",
   "version": "3.11.7"
  }
 },
 "nbformat": 4,
 "nbformat_minor": 5
}
